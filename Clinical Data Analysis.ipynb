{
 "cells": [
  {
   "cell_type": "markdown",
   "id": "3bbf2e8c-9999-4d89-a492-a97b0a4277cd",
   "metadata": {
    "id": "3bbf2e8c-9999-4d89-a492-a97b0a4277cd"
   },
   "source": [
    "# Clinical Data Analysis of Clareon®, PanOptix®, and Vivity® Intraocular Lenses"
   ]
  },
  {
   "cell_type": "markdown",
   "id": "c19368bc-c00f-413c-a11c-7344da9cbda9",
   "metadata": {
    "id": "c19368bc-c00f-413c-a11c-7344da9cbda9"
   },
   "source": [
    "## Objective of the Analysis\n",
    "\n",
    "The goal of this notebook is to compare the clinical outcomes of three intraocular lenses (IOLs) commonly used in cataract surgery:\n",
    "\n",
    "\n",
    "*   Clareon®\n",
    "*   PanOptix®\n",
    "*   Vivity®\n",
    "*   Element listy\n",
    "\n",
    "\n",
    "\n",
    "## This analysis focuses on:\n",
    "\n",
    "  * Basic patient demographics (age, gender),\n",
    "\n",
    "  * Number of participants in clinical trials,\n",
    "\n",
    "  * Improvement in uncorrected vision (without glasses),\n",
    "\n",
    "  * Duration of each clinical study."
   ]
  },
  {
   "cell_type": "markdown",
   "id": "093a2247-fceb-4a97-92ee-de6fb61cd223",
   "metadata": {
    "id": "093a2247-fceb-4a97-92ee-de6fb61cd223"
   },
   "source": [
    "## Data Source\n",
    "\n",
    "The clinical data was manually extracted from ClinicalTrials.gov from the Study Details and Study Results tabs for the following trial identifiers:\n",
    "\n",
    "  * Clareon – NCT03170154\n",
    "\n",
    "  * PanOptix – NCT04228807\n",
    "\n",
    "  * Vivity – NCT04094172\n",
    "\n",
    "Collected parameters include:\n",
    "\n",
    "  * Number of patients,\n",
    "\n",
    "  * Mean age of participants,\n",
    "\n",
    "  * Gender distribution,\n",
    "\n",
    "  * Visual acuity results:\n",
    "\n",
    "      * UDVA – Uncorrected Distance Visual Acuity\n",
    "\n",
    "      * UNVA – Uncorrected Near Visual Acuity\n",
    "\n",
    "      * UIVA – Uncorrected Intermediate Visual Acuity"
   ]
  },
  {
   "cell_type": "markdown",
   "id": "5f814a84-865a-4add-8eaf-5d85b9c74313",
   "metadata": {
    "id": "5f814a84-865a-4add-8eaf-5d85b9c74313"
   },
   "source": [
    "## Methodology\n",
    "\n",
    "The data was manually structured and entered into a Pandas DataFrame. The analysis includes:\n",
    "\n",
    "  * Displaying a summary table of the clinical data,\n",
    "\n",
    "  * Creating bar charts for visual acuity effectiveness,\n",
    "\n",
    "  * Visualizing the number of participants by lens type with color-coding."
   ]
  },
  {
   "cell_type": "code",
   "execution_count": 2,
   "id": "29fe02ac-877e-4752-bf93-edb8a281f3b5",
   "metadata": {
    "id": "29fe02ac-877e-4752-bf93-edb8a281f3b5",
    "outputId": "f76576a7-e5b5-4bbd-818a-ca33611b0051"
   },
   "outputs": [
    {
     "name": "stdout",
     "output_type": "stream",
     "text": [
      "Defaulting to user installation because normal site-packages is not writeable\n",
      "Requirement already satisfied: pandas in c:\\programdata\\anaconda3\\lib\\site-packages (2.2.3)\n",
      "Requirement already satisfied: matplotlib in c:\\programdata\\anaconda3\\lib\\site-packages (3.10.0)\n",
      "Requirement already satisfied: numpy>=1.26.0 in c:\\programdata\\anaconda3\\lib\\site-packages (from pandas) (2.1.3)\n",
      "Requirement already satisfied: python-dateutil>=2.8.2 in c:\\programdata\\anaconda3\\lib\\site-packages (from pandas) (2.9.0.post0)\n",
      "Requirement already satisfied: pytz>=2020.1 in c:\\programdata\\anaconda3\\lib\\site-packages (from pandas) (2024.1)\n",
      "Requirement already satisfied: tzdata>=2022.7 in c:\\programdata\\anaconda3\\lib\\site-packages (from pandas) (2025.2)\n",
      "Requirement already satisfied: contourpy>=1.0.1 in c:\\programdata\\anaconda3\\lib\\site-packages (from matplotlib) (1.3.1)\n",
      "Requirement already satisfied: cycler>=0.10 in c:\\programdata\\anaconda3\\lib\\site-packages (from matplotlib) (0.11.0)\n",
      "Requirement already satisfied: fonttools>=4.22.0 in c:\\programdata\\anaconda3\\lib\\site-packages (from matplotlib) (4.55.3)\n",
      "Requirement already satisfied: kiwisolver>=1.3.1 in c:\\programdata\\anaconda3\\lib\\site-packages (from matplotlib) (1.4.8)\n",
      "Requirement already satisfied: packaging>=20.0 in c:\\programdata\\anaconda3\\lib\\site-packages (from matplotlib) (24.2)\n",
      "Requirement already satisfied: pillow>=8 in c:\\programdata\\anaconda3\\lib\\site-packages (from matplotlib) (11.1.0)\n",
      "Requirement already satisfied: pyparsing>=2.3.1 in c:\\programdata\\anaconda3\\lib\\site-packages (from matplotlib) (3.2.0)\n",
      "Requirement already satisfied: six>=1.5 in c:\\programdata\\anaconda3\\lib\\site-packages (from python-dateutil>=2.8.2->pandas) (1.17.0)\n",
      "Note: you may need to restart the kernel to use updated packages.\n"
     ]
    }
   ],
   "source": [
    "pip install pandas matplotlib"
   ]
  },
  {
   "cell_type": "markdown",
   "id": "1e580576-cffb-403d-971d-411e86acb15e",
   "metadata": {
    "id": "1e580576-cffb-403d-971d-411e86acb15e"
   },
   "source": [
    "### Step 1 – Import required libraries\n",
    "\n",
    "We import the necessary Python libraries:\n",
    "- `pandas` for working with tabular data (DataFrames),\n",
    "- `matplotlib.pyplot` for creating visualizations."
   ]
  },
  {
   "cell_type": "code",
   "execution_count": null,
   "id": "42b654fd-6ace-481d-af65-14e362878abe",
   "metadata": {
    "id": "42b654fd-6ace-481d-af65-14e362878abe"
   },
   "outputs": [],
   "source": [
    "import pandas as pd\n",
    "import matplotlib.pyplot as plt"
   ]
  },
  {
   "cell_type": "markdown",
   "id": "6390a88f-ee39-402e-9248-d741c4f48efd",
   "metadata": {
    "id": "6390a88f-ee39-402e-9248-d741c4f48efd"
   },
   "source": [
    "### Step 2 – Define clinical data table\n",
    "\n",
    "We create a list of dictionaries representing key clinical data for each intraocular lens (IOL):\n",
    "- Average patient age,\n",
    "- Female percentage,\n",
    "- Study duration,\n",
    "- Uncorrected visual acuity results,\n",
    "- Total number of participants.\n",
    "\n",
    "We then convert this data into a Pandas DataFrame and display it."
   ]
  },
  {
   "cell_type": "code",
   "execution_count": null,
   "id": "06afd8b8-42f8-4eb4-abd5-e600040317b5",
   "metadata": {
    "id": "06afd8b8-42f8-4eb4-abd5-e600040317b5",
    "outputId": "3373a026-45f2-41fb-e500-4dcd042f795e"
   },
   "outputs": [
    {
     "data": {
      "text/html": [
       "<div>\n",
       "<style scoped>\n",
       "    .dataframe tbody tr th:only-of-type {\n",
       "        vertical-align: middle;\n",
       "    }\n",
       "\n",
       "    .dataframe tbody tr th {\n",
       "        vertical-align: top;\n",
       "    }\n",
       "\n",
       "    .dataframe thead th {\n",
       "        text-align: right;\n",
       "    }\n",
       "</style>\n",
       "<table border=\"1\" class=\"dataframe\">\n",
       "  <thead>\n",
       "    <tr style=\"text-align: right;\">\n",
       "      <th></th>\n",
       "      <th>Lens</th>\n",
       "      <th>Mean Age</th>\n",
       "      <th>Female (%)</th>\n",
       "      <th>Study Duration</th>\n",
       "      <th>UDVA 20/40 (%)</th>\n",
       "      <th>Number of Patients</th>\n",
       "      <th>UDVA 20/20 (%)</th>\n",
       "      <th>UNVA 20/32 (%)</th>\n",
       "      <th>UIVA 20/40 (%)</th>\n",
       "    </tr>\n",
       "  </thead>\n",
       "  <tbody>\n",
       "    <tr>\n",
       "      <th>0</th>\n",
       "      <td>Clareon</td>\n",
       "      <td>67.2</td>\n",
       "      <td>60</td>\n",
       "      <td>2017-07 → 2019-02</td>\n",
       "      <td>98.0</td>\n",
       "      <td>140</td>\n",
       "      <td>NaN</td>\n",
       "      <td>NaN</td>\n",
       "      <td>NaN</td>\n",
       "    </tr>\n",
       "    <tr>\n",
       "      <th>1</th>\n",
       "      <td>PanOptix</td>\n",
       "      <td>68.5</td>\n",
       "      <td>55</td>\n",
       "      <td>2020-03 → 2022-05</td>\n",
       "      <td>NaN</td>\n",
       "      <td>200</td>\n",
       "      <td>92.0</td>\n",
       "      <td>88.0</td>\n",
       "      <td>NaN</td>\n",
       "    </tr>\n",
       "    <tr>\n",
       "      <th>2</th>\n",
       "      <td>Vivity</td>\n",
       "      <td>69.1</td>\n",
       "      <td>58</td>\n",
       "      <td>2020-06 → 2022-09</td>\n",
       "      <td>96.0</td>\n",
       "      <td>180</td>\n",
       "      <td>NaN</td>\n",
       "      <td>NaN</td>\n",
       "      <td>90.0</td>\n",
       "    </tr>\n",
       "  </tbody>\n",
       "</table>\n",
       "</div>"
      ],
      "text/plain": [
       "       Lens  Mean Age  Female (%)     Study Duration  UDVA 20/40 (%)  \\\n",
       "0   Clareon      67.2          60  2017-07 → 2019-02            98.0   \n",
       "1  PanOptix      68.5          55  2020-03 → 2022-05             NaN   \n",
       "2    Vivity      69.1          58  2020-06 → 2022-09            96.0   \n",
       "\n",
       "   Number of Patients  UDVA 20/20 (%)  UNVA 20/32 (%)  UIVA 20/40 (%)  \n",
       "0                 140             NaN             NaN             NaN  \n",
       "1                 200            92.0            88.0             NaN  \n",
       "2                 180             NaN             NaN            90.0  "
      ]
     },
     "metadata": {},
     "output_type": "display_data"
    }
   ],
   "source": [
    "data = [\n",
    "    {\n",
    "        \"Lens\": \"Clareon\",\n",
    "        \"Mean Age\": 67.2,\n",
    "        \"Female (%)\": 60,\n",
    "        \"Study Duration\": \"2017-07 → 2019-02\",\n",
    "        \"UDVA 20/40 (%)\": 98,\n",
    "        \"Number of Patients\": 140\n",
    "    },\n",
    "    {\n",
    "        \"Lens\": \"PanOptix\",\n",
    "        \"Mean Age\": 68.5,\n",
    "        \"Female (%)\": 55,\n",
    "        \"Study Duration\": \"2020-03 → 2022-05\",\n",
    "        \"UDVA 20/20 (%)\": 92,\n",
    "        \"UNVA 20/32 (%)\": 88,\n",
    "        \"Number of Patients\": 200\n",
    "    },\n",
    "    {\n",
    "        \"Lens\": \"Vivity\",\n",
    "        \"Mean Age\": 69.1,\n",
    "        \"Female (%)\": 58,\n",
    "        \"Study Duration\": \"2020-06 → 2022-09\",\n",
    "        \"UDVA 20/40 (%)\": 96,\n",
    "        \"UIVA 20/40 (%)\": 90,\n",
    "        \"Number of Patients\": 180\n",
    "    }\n",
    "]\n",
    "\n",
    "df = pd.DataFrame(data)\n",
    "display(df)"
   ]
  },
  {
   "cell_type": "markdown",
   "id": "a767dd5f-5251-4742-ae69-c32270bad8c7",
   "metadata": {
    "id": "a767dd5f-5251-4742-ae69-c32270bad8c7"
   },
   "source": [
    "### Step 3 – Create visual acuity effectiveness table\n",
    "\n",
    "We extract only the visual acuity performance for each lens:\n",
    "- UDVA (uncorrected distance vision),\n",
    "- UNVA (uncorrected near vision),\n",
    "- UIVA (uncorrected intermediate vision).\n",
    "\n",
    "This simplified table will be used to create a grouped bar chart."
   ]
  },
  {
   "cell_type": "markdown",
   "id": "4b9b1e20-8a9f-44fa-b84b-42e1d942c043",
   "metadata": {
    "id": "4b9b1e20-8a9f-44fa-b84b-42e1d942c043"
   },
   "source": [
    "### Step 4 – Plot visual acuity bar chart\n",
    "\n",
    "We use the visual acuity DataFrame to create a bar chart showing what percentage of patients achieved each level of unaided vision.\n",
    "\n",
    "Each bar represents a different metric (e.g. UDVA ≥ 20/40, UNVA ≥ 20/32), and each group corresponds to a lens.\n",
    "\n"
   ]
  },
  {
   "cell_type": "code",
   "execution_count": null,
   "id": "d19af77a-111d-4b73-82cf-65baf6ffc953",
   "metadata": {
    "id": "d19af77a-111d-4b73-82cf-65baf6ffc953",
    "outputId": "53af3ad3-ccee-474f-ae7d-80d75a9f8485"
   },
   "outputs": [
    {
     "data": {
      "image/png": "[encoded data removed]",
      "text/plain": [
       "<Figure size 1000x600 with 1 Axes>"
      ]
     },
     "metadata": {},
     "output_type": "display_data"
    }
   ],
   "source": [
    "acuity_data = {\n",
    "    \"Lens\": [\"Clareon\", \"PanOptix\", \"Vivity\"],\n",
    "    \"UDVA ≥ 20/40\": [98, None, 96],\n",
    "    \"UDVA ≥ 20/20\": [None, 92, None],\n",
    "    \"UNVA ≥ 20/32\": [None, 88, None],\n",
    "    \"UIVA ≥ 20/40\": [None, None, 90]\n",
    "}\n",
    "\n",
    "acuity_df = pd.DataFrame(acuity_data).set_index(\"Lens\")\n",
    "\n",
    "acuity_df.plot(kind=\"bar\", figsize=(10, 6))\n",
    "plt.title(\"Unaided Visual Acuity Outcomes by Lens Type\")\n",
    "plt.ylabel(\"Patients achieving target (%)\")\n",
    "plt.xticks(rotation=0)\n",
    "plt.grid(True, axis='y')\n",
    "plt.ylim(0, 105)\n",
    "plt.legend(loc='lower right')\n",
    "plt.tight_layout()\n",
    "plt.show()"
   ]
  },
  {
   "cell_type": "markdown",
   "id": "92701d7c-3be1-4349-9930-2b1f19d48dc2",
   "metadata": {
    "id": "92701d7c-3be1-4349-9930-2b1f19d48dc2"
   },
   "source": [
    "### Step 5 – Plot number of patients per lens\n",
    "\n",
    "We generate another bar chart that shows the number of participants in each clinical study by lens type.\n",
    "\n",
    "This helps us compare sample sizes between Clareon®, PanOptix®, and Vivity® lenses."
   ]
  },
  {
   "cell_type": "code",
   "execution_count": null,
   "id": "624df2b8-3f44-4bf4-922b-3c56d5c2b33a",
   "metadata": {
    "id": "624df2b8-3f44-4bf4-922b-3c56d5c2b33a",
    "outputId": "eac65c74-3f93-408d-a195-25af8719cc80"
   },
   "outputs": [
    {
     "data": {
      "image/png": "[encoded data removed]",
      "text/plain": [
       "<Figure size 640x480 with 1 Axes>"
      ]
     },
     "metadata": {},
     "output_type": "display_data"
    }
   ],
   "source": [
    "df.plot(\n",
    "    x=\"Lens\",\n",
    "    y=\"Number of Patients\",\n",
    "    kind=\"bar\",\n",
    "    color=\"gray\",\n",
    "    title=\"Number of Patients in Clinical Studies\"\n",
    ")\n",
    "\n",
    "plt.xticks(rotation=0)\n",
    "plt.ylabel(\"Patients\")\n",
    "plt.tight_layout()\n",
    "plt.show()"
   ]
  },
  {
   "cell_type": "markdown",
   "id": "2af948f6-0623-407a-b01b-51ead022d040",
   "metadata": {
    "id": "2af948f6-0623-407a-b01b-51ead022d040"
   },
   "source": [
    "## Summary\n",
    "\n",
    "This notebook enables clinical comparison of the performance of three widely used IOLs in cataract surgery.\n",
    "The analysis includes patient demographics, surgical outcomes, and visual performance — visualized through readable charts and statistics."
   ]
  },
  {
   "cell_type": "code",
   "execution_count": null,
   "id": "21fc50cd-3f22-4540-a635-1b33b2d9193f",
   "metadata": {
    "id": "21fc50cd-3f22-4540-a635-1b33b2d9193f"
   },
   "outputs": [],
   "source": []
  }
 ],
 "metadata": {
  "colab": {
   "provenance": []
  },
  "kernelspec": {
   "display_name": "base",
   "language": "python",
   "name": "python3"
  },
  "language_info": {
   "codemirror_mode": {
    "name": "ipython",
    "version": 3
   },
   "file_extension": ".py",
   "mimetype": "text/x-python",
   "name": "python",
   "nbconvert_exporter": "python",
   "pygments_lexer": "ipython3",
   "version": "3.13.5"
  }
 },
 "nbformat": 4,
 "nbformat_minor": 5
}
